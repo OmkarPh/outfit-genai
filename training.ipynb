{
 "cells": [
  {
   "cell_type": "code",
   "execution_count": 26,
   "id": "67c06b32",
   "metadata": {},
   "outputs": [
    {
     "name": "stdout",
     "output_type": "stream",
     "text": [
      "/Users/omkar/.zshenv:.:1: no such file or directory: /Users/omkar/.cargo/env\n",
      "Requirement already satisfied: tabulate in /opt/homebrew/lib/python3.11/site-packages (0.9.0)\n",
      "Note: you may need to restart the kernel to use updated packages.\n"
     ]
    }
   ],
   "source": [
    "import pandas as pd\n",
    "import numpy as np\n",
    "import shutil\n",
    "import os\n",
    "\n",
    "%pip install tabulate\n",
    "from tabulate import tabulate"
   ]
  },
  {
   "cell_type": "code",
   "execution_count": 3,
   "id": "575efc54",
   "metadata": {},
   "outputs": [],
   "source": [
    "pd.set_option('display.max_colwidth', None)\n",
    "DATASET_DIR = \"dataset\"\n",
    "IMAGES_DIR = f\"{DATASET_DIR}/images\"\n",
    "PROCESSED_IMAGES_DIR = f\"{DATASET_DIR}/processed\""
   ]
  },
  {
   "cell_type": "code",
   "execution_count": 4,
   "id": "da3e5166",
   "metadata": {},
   "outputs": [
    {
     "name": "stdout",
     "output_type": "stream",
     "text": [
      "1120129001\n",
      "0120129001\n",
      "0176209\n",
      "1176209\n"
     ]
    }
   ],
   "source": [
    "def format_article_number(num):\n",
    "    return '{:010}'.format(num)\n",
    "def format_product_code(num):\n",
    "    return '{:07}'.format(num)\n",
    "\n",
    "print(format_article_number(1120129001))\n",
    "print(format_article_number(120129001))\n",
    "print(format_product_code(176209))\n",
    "print(format_product_code(1176209))"
   ]
  },
  {
   "cell_type": "code",
   "execution_count": 5,
   "id": "41d87dda",
   "metadata": {},
   "outputs": [],
   "source": [
    "articles = pd.read_csv(f\"{DATASET_DIR}/articles.csv\")\n",
    "# articles.head()"
   ]
  },
  {
   "cell_type": "code",
   "execution_count": 10,
   "id": "8e9bb131",
   "metadata": {},
   "outputs": [
    {
     "data": {
      "text/html": [
       "<div>\n",
       "<style scoped>\n",
       "    .dataframe tbody tr th:only-of-type {\n",
       "        vertical-align: middle;\n",
       "    }\n",
       "\n",
       "    .dataframe tbody tr th {\n",
       "        vertical-align: top;\n",
       "    }\n",
       "\n",
       "    .dataframe thead th {\n",
       "        text-align: right;\n",
       "    }\n",
       "</style>\n",
       "<table border=\"1\" class=\"dataframe\">\n",
       "  <thead>\n",
       "    <tr style=\"text-align: right;\">\n",
       "      <th></th>\n",
       "      <th>article_id</th>\n",
       "      <th>product_code</th>\n",
       "      <th>prod_name</th>\n",
       "      <th>product_type_no</th>\n",
       "      <th>product_type_name</th>\n",
       "      <th>product_group_name</th>\n",
       "      <th>graphical_appearance_no</th>\n",
       "      <th>graphical_appearance_name</th>\n",
       "      <th>colour_group_code</th>\n",
       "      <th>colour_group_name</th>\n",
       "      <th>...</th>\n",
       "      <th>department_name</th>\n",
       "      <th>index_code</th>\n",
       "      <th>index_name</th>\n",
       "      <th>index_group_no</th>\n",
       "      <th>index_group_name</th>\n",
       "      <th>section_no</th>\n",
       "      <th>section_name</th>\n",
       "      <th>garment_group_no</th>\n",
       "      <th>garment_group_name</th>\n",
       "      <th>detail_desc</th>\n",
       "    </tr>\n",
       "  </thead>\n",
       "  <tbody>\n",
       "    <tr>\n",
       "      <th>99</th>\n",
       "      <td>176209023</td>\n",
       "      <td>176209</td>\n",
       "      <td>Mr Harrington w/hood</td>\n",
       "      <td>308</td>\n",
       "      <td>Hoodie</td>\n",
       "      <td>Garment Upper body</td>\n",
       "      <td>1010016</td>\n",
       "      <td>Solid</td>\n",
       "      <td>9</td>\n",
       "      <td>Black</td>\n",
       "      <td>...</td>\n",
       "      <td>Jacket Street</td>\n",
       "      <td>F</td>\n",
       "      <td>Menswear</td>\n",
       "      <td>3</td>\n",
       "      <td>Menswear</td>\n",
       "      <td>31</td>\n",
       "      <td>Mens Outerwear</td>\n",
       "      <td>1007</td>\n",
       "      <td>Outdoor</td>\n",
       "      <td>Short, padded jacket with a jersey-lined hood and stand-up collar with a drawstring. Zip down the front, flap side pockets with a press-stud, one inner pocket, and ribbing at the cuffs and hem. Quilted lining.</td>\n",
       "    </tr>\n",
       "    <tr>\n",
       "      <th>100</th>\n",
       "      <td>176209025</td>\n",
       "      <td>176209</td>\n",
       "      <td>Mr Harrington w/hood</td>\n",
       "      <td>308</td>\n",
       "      <td>Hoodie</td>\n",
       "      <td>Garment Upper body</td>\n",
       "      <td>1010016</td>\n",
       "      <td>Solid</td>\n",
       "      <td>19</td>\n",
       "      <td>Greenish Khaki</td>\n",
       "      <td>...</td>\n",
       "      <td>Jacket Street</td>\n",
       "      <td>F</td>\n",
       "      <td>Menswear</td>\n",
       "      <td>3</td>\n",
       "      <td>Menswear</td>\n",
       "      <td>31</td>\n",
       "      <td>Mens Outerwear</td>\n",
       "      <td>1007</td>\n",
       "      <td>Outdoor</td>\n",
       "      <td>Short, padded jacket with a jersey-lined hood and stand-up collar with a drawstring. Zip down the front, flap side pockets with a press-stud, one inner pocket, and ribbing at the cuffs and hem. Quilted lining.</td>\n",
       "    </tr>\n",
       "  </tbody>\n",
       "</table>\n",
       "<p>2 rows × 25 columns</p>\n",
       "</div>"
      ],
      "text/plain": [
       "     article_id  product_code             prod_name  product_type_no   \n",
       "99    176209023        176209  Mr Harrington w/hood              308  \\\n",
       "100   176209025        176209  Mr Harrington w/hood              308   \n",
       "\n",
       "    product_type_name  product_group_name  graphical_appearance_no   \n",
       "99             Hoodie  Garment Upper body                  1010016  \\\n",
       "100            Hoodie  Garment Upper body                  1010016   \n",
       "\n",
       "    graphical_appearance_name  colour_group_code colour_group_name  ...   \n",
       "99                      Solid                  9             Black  ...  \\\n",
       "100                     Solid                 19    Greenish Khaki  ...   \n",
       "\n",
       "     department_name index_code  index_name index_group_no  index_group_name   \n",
       "99     Jacket Street          F    Menswear              3          Menswear  \\\n",
       "100    Jacket Street          F    Menswear              3          Menswear   \n",
       "\n",
       "    section_no    section_name garment_group_no  garment_group_name   \n",
       "99          31  Mens Outerwear             1007             Outdoor  \\\n",
       "100         31  Mens Outerwear             1007             Outdoor   \n",
       "\n",
       "                                                                                                                                                                                                           detail_desc  \n",
       "99   Short, padded jacket with a jersey-lined hood and stand-up collar with a drawstring. Zip down the front, flap side pockets with a press-stud, one inner pocket, and ribbing at the cuffs and hem. Quilted lining.  \n",
       "100  Short, padded jacket with a jersey-lined hood and stand-up collar with a drawstring. Zip down the front, flap side pockets with a press-stud, one inner pocket, and ribbing at the cuffs and hem. Quilted lining.  \n",
       "\n",
       "[2 rows x 25 columns]"
      ]
     },
     "execution_count": 10,
     "metadata": {},
     "output_type": "execute_result"
    }
   ],
   "source": [
    "def getProductVariants(product_code, limit: int = None):\n",
    "    productVariants = articles.loc[articles['product_code'] == product_code]\n",
    "    if limit:\n",
    "        return productVariants.head(limit)\n",
    "    return productVariants\n",
    "\n",
    "# getProductVariants(176209)\n",
    "getProductVariants(176209, 2)"
   ]
  },
  {
   "cell_type": "code",
   "execution_count": 18,
   "id": "2d8b8abd",
   "metadata": {},
   "outputs": [
    {
     "name": "stdout",
     "output_type": "stream",
     "text": [
      "prod_name                    Mr Harrington w/hood\n",
      "product_type_name                          Hoodie\n",
      "product_group_name             Garment Upper body\n",
      "graphical_appearance_name                   Solid\n",
      "colour_group_name                           Black\n",
      "index_name                               Menswear\n",
      "section_name                       Mens Outerwear\n",
      "garment_group_name                        Outdoor\n",
      "Name: 99, dtype: object\n",
      "   article_id product_code             prod_name   \n",
      "0  0176209023      0176209  Mr Harrington w/hood  \\\n",
      "1  0176209025      0176209  Mr Harrington w/hood   \n",
      "\n",
      "                                                                                                                                                                                                                                    caption  \n",
      "0           Black Hoodie, Short, padded jacket with a jersey-lined hood and stand-up collar with a drawstring. Zip down the front, flap side pockets with a press-stud, one inner pocket, and ribbing at the cuffs and hem. Quilted lining.  \n",
      "1  Greenish Khaki Hoodie, Short, padded jacket with a jersey-lined hood and stand-up collar with a drawstring. Zip down the front, flap side pockets with a press-stud, one inner pocket, and ribbing at the cuffs and hem. Quilted lining.  \n"
     ]
    }
   ],
   "source": [
    "def getArticlesWithCaptions(product_code, limit: int = None):\n",
    "    productVariants = getProductVariants(product_code, limit)\n",
    "\n",
    "    productArticlesList = []\n",
    "    for _, row in productVariants.iterrows():\n",
    "        articleInfo = {\n",
    "            'article_id': format_article_number(row['article_id']),\n",
    "            'product_code': format_product_code(row['product_code']),\n",
    "            'prod_name': row['prod_name'],\n",
    "            'caption': f\"{row['colour_group_name']} {row['product_type_name']}, {row['detail_desc']}\"\n",
    "        }\n",
    "        productArticlesList.append(articleInfo)\n",
    "\n",
    "    productArticlesDf = pd.DataFrame(productArticlesList)\n",
    "    productInfo = productVariants.iloc[0][[\"prod_name\", \"product_type_name\", \"product_group_name\", \"graphical_appearance_name\", \"colour_group_name\", \"index_name\", \"section_name\", \"garment_group_name\"]]\n",
    "    return productArticlesDf, productInfo\n",
    "\n",
    "# productArticlesDf, productInfo = getArticlesWithCaptions(176209, 2)\n",
    "# print(productInfo)\n",
    "# print(productArticlesDf)"
   ]
  },
  {
   "cell_type": "code",
   "execution_count": 30,
   "id": "36ac3507",
   "metadata": {},
   "outputs": [
    {
     "name": "stdout",
     "output_type": "stream",
     "text": [
      "Processed destination: 'dataset/processed/0176209' created successfully/already exists.\n",
      "Processed captions for 2 176209 images !\n",
      "\n",
      "------------------   Training config   ------------------\n",
      "\n",
      "Path for training: \tdataset/processed/0176209\n",
      "Instance prompt: \tphoto of Mr Harrington w/hood Hoodie\n",
      "Class prompt: \t\tphoto of Hoodie\n",
      "\n",
      "-------------------------------------------------------\n",
      "\n"
     ]
    }
   ],
   "source": [
    "def preprocessImages(product_code, limit: int = None):\n",
    "    articlesWithCaptions, productInfo = getArticlesWithCaptions(product_code, limit)\n",
    "    processedDestination = f\"{PROCESSED_IMAGES_DIR}/{format_product_code(product_code)}\"\n",
    "    productInstancePrompt = f\"photo of {productInfo['prod_name']} {productInfo['product_type_name']}\"\n",
    "    productClassPrompt = f\"photo of {productInfo['product_type_name']}\"\n",
    "\n",
    "    os.makedirs(processedDestination, exist_ok=True)\n",
    "    print(f\"Processed destination: '{processedDestination}' created successfully/already exists.\")\n",
    "        \n",
    "    for _, article in articlesWithCaptions.iterrows():\n",
    "        captionLocation = f\"{PROCESSED_IMAGES_DIR}/{article['product_code']}/{article['article_id']}.txt\"\n",
    "        captionFile = open(captionLocation, \"w\")\n",
    "        captionFile.write(article['caption'])\n",
    "        captionFile.close()\n",
    "        shutil.copyfile(\n",
    "            f\"{IMAGES_DIR}/{article['product_code']}/{article['article_id']}.jpg\",\n",
    "            f\"{PROCESSED_IMAGES_DIR}/{article['product_code']}/{article['article_id']}.jpg\",\n",
    "        )\n",
    "    print(f\"Processed captions for {len(articlesWithCaptions)} {product_code} images !\")\n",
    "\n",
    "\n",
    "    # Create a dictionary to store the data\n",
    "    # trainingConfig = [\n",
    "    #     (\"Path for training\", processedDestination),\n",
    "    #     (\"Instance prompt\", productInstancePrompt),\n",
    "    #     (\"Class prompt\", productClassPrompt),\n",
    "    # ]\n",
    "\n",
    "    # Create a DataFrame from the dictionary\n",
    "    # print(pd.DataFrame(trainingConfig).transpose())\n",
    "\n",
    "    # Generate the table using tabulate\n",
    "    # configTable = tabulate(trainingConfig, [\"Attribute\", \"Value\"], tablefmt=\"grid\")\n",
    "    # print(configTable)\n",
    "\n",
    "    print(\"\\n------------------   Training config   ------------------\\n\")\n",
    "    print(f\"Path for training: \\t{processedDestination}\")\n",
    "    print(f\"Instance prompt: \\t{productInstancePrompt}\")\n",
    "    print(f\"Class prompt: \\t\\t{productClassPrompt}\")\n",
    "    print(\"\\n-------------------------------------------------------\\n\")\n",
    "\n",
    "\n",
    "preprocessImages(176209, 2)"
   ]
  },
  {
   "cell_type": "code",
   "execution_count": null,
   "id": "11238c4e",
   "metadata": {},
   "outputs": [],
   "source": []
  },
  {
   "cell_type": "code",
   "execution_count": null,
   "id": "44405599",
   "metadata": {},
   "outputs": [],
   "source": []
  },
  {
   "cell_type": "code",
   "execution_count": null,
   "id": "30334770",
   "metadata": {},
   "outputs": [],
   "source": []
  }
 ],
 "metadata": {
  "kernelspec": {
   "display_name": "Python 3 (ipykernel)",
   "language": "python",
   "name": "python3"
  },
  "language_info": {
   "codemirror_mode": {
    "name": "ipython",
    "version": 3
   },
   "file_extension": ".py",
   "mimetype": "text/x-python",
   "name": "python",
   "nbconvert_exporter": "python",
   "pygments_lexer": "ipython3",
   "version": "3.11.4"
  }
 },
 "nbformat": 4,
 "nbformat_minor": 5
}
